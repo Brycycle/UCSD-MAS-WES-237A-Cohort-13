{
 "cells": [
  {
   "cell_type": "code",
   "execution_count": 1,
   "id": "b620cd3e",
   "metadata": {},
   "outputs": [
    {
     "data": {
      "application/javascript": [
       "\n",
       "try {\n",
       "require(['notebook/js/codecell'], function(codecell) {\n",
       "  codecell.CodeCell.options_default.highlight_modes[\n",
       "      'magic_text/x-csrc'] = {'reg':[/^%%microblaze/]};\n",
       "  Jupyter.notebook.events.one('kernel_ready.Kernel', function(){\n",
       "      Jupyter.notebook.get_cells().map(function(cell){\n",
       "          if (cell.cell_type == 'code'){ cell.auto_highlight(); } }) ;\n",
       "  });\n",
       "});\n",
       "} catch (e) {};\n"
      ]
     },
     "metadata": {},
     "output_type": "display_data"
    },
    {
     "data": {
      "application/javascript": [
       "\n",
       "try {\n",
       "require(['notebook/js/codecell'], function(codecell) {\n",
       "  codecell.CodeCell.options_default.highlight_modes[\n",
       "      'magic_text/x-csrc'] = {'reg':[/^%%pybind11/]};\n",
       "  Jupyter.notebook.events.one('kernel_ready.Kernel', function(){\n",
       "      Jupyter.notebook.get_cells().map(function(cell){\n",
       "          if (cell.cell_type == 'code'){ cell.auto_highlight(); } }) ;\n",
       "  });\n",
       "});\n",
       "} catch (e) {};\n"
      ]
     },
     "metadata": {},
     "output_type": "display_data"
    }
   ],
   "source": [
    "import ctypes\n",
    "import multiprocessing\n",
    "import numpy as np\n",
    "import os\n",
    "import time\n",
    "from pynq.lib.pmod import Pmod_IO\n",
    "from pynq.lib import Pmod_PWM"
   ]
  },
  {
   "cell_type": "code",
   "execution_count": 2,
   "id": "c8139978",
   "metadata": {},
   "outputs": [],
   "source": [
    "from pynq.overlays.base import BaseOverlay\n",
    "base = BaseOverlay(\"base.bit\")"
   ]
  },
  {
   "cell_type": "code",
   "execution_count": 3,
   "id": "20f94bc2",
   "metadata": {},
   "outputs": [
    {
     "name": "stdout",
     "output_type": "stream",
     "text": [
      "0\n",
      "1\n",
      "3\n",
      "True\n",
      "0\n"
     ]
    }
   ],
   "source": [
    "msg = 0b000000\n",
    "print(msg)\n",
    "msg = msg << 1\n",
    "msg |= (1 & 1)\n",
    "msg &= 0x3F\n",
    "print(msg)\n",
    "msg = msg << 1\n",
    "msg |= (1 & 1)\n",
    "msg &= 0x3F\n",
    "print(msg)\n",
    "if msg == 0b000011:\n",
    "    print(True)\n",
    "else:\n",
    "    print(False)\n",
    "msg = 0b000000\n",
    "print(msg)"
   ]
  },
  {
   "cell_type": "code",
   "execution_count": 3,
   "id": "b5328166",
   "metadata": {},
   "outputs": [],
   "source": [
    "def transceiver (tx_flag, tx_buf, rx_counter, rx_buf, quit_flag):\n",
    "    period=0.05\n",
    "    inpin = Pmod_IO (base.PMODA, 3, 'in')\n",
    "    outpwm = Pmod_PWM(base.PMODB, 3)\n",
    "    start_time=time.perf_counter()\n",
    "    timecounter=start_time\n",
    "    strtMsg = 0b000000\n",
    "    msgStarted = False\n",
    "    \n",
    "    i=0\n",
    "    \n",
    "    while not quit_flag.value:\n",
    "        # Do TX stuff - TODO: read from tx buf\n",
    "#         if i % 2 == 0:\n",
    "#             outpwm.generate(26,50)\n",
    "#         else:\n",
    "#             outpwm.stop()\n",
    "        # Do RX stuff - TODO: properly index\n",
    "        if msgStarted == True:\n",
    "            rx_buf[0][i] = (1-inpin.read())\n",
    "            i += 1\n",
    "            if i == 199:\n",
    "                msgStarted = False\n",
    "                i = 0\n",
    "                print(\"Message Captured\")\n",
    "                break\n",
    "            \n",
    "        if msgStarted == False:\n",
    "            val = (1-inpin.read())\n",
    "            strtMsg = strtMsg << 1\n",
    "            strtMsg |= (val & 1)\n",
    "            strtMsg &= 0x3F\n",
    "            if strtMsg == 0b101101:\n",
    "                msgStarted = True\n",
    "                strtMsg = 0b000000\n",
    "     \n",
    "\n",
    "        timecounter += period \n",
    "        now=time.perf_counter()\n",
    "        if now < (timecounter+period):\n",
    "            time.sleep(timecounter+period-now)\n",
    "\n",
    "            \n",
    "def data_processor (tx_flag, tx_buf, rx_counter, rx_bufs, quit_flag):\n",
    "    j = 0\n",
    "    while not quit_flag.value:\n",
    "        # Do data stuff\n",
    "        time.sleep(0.25)\n",
    "        j += 1\n",
    "        \n",
    "def button_handler (quit_flag):\n",
    "    btns = base.btns_gpio\n",
    "    while not btns[0].read():\n",
    "        time.sleep(0.25)\n",
    "    quit_flag.value = True"
   ]
  },
  {
   "cell_type": "code",
   "execution_count": 4,
   "id": "6944a49a",
   "metadata": {},
   "outputs": [
    {
     "name": "stdout",
     "output_type": "stream",
     "text": [
      "Started processes\n",
      "Message Captured\n",
      "Quit\n",
      "[True, False, True, True, True, False, True, False, True, True, True, False, True, False, True, True, True, False, True, False, False, False, False, False, False, False, False, False, False, False, False, False, False, False, False, False, False, False, False, False, False, False, False, False, False, False, False, False, False, False, False, False, False, False, False, False, False, False, False, False, False, False, False, False, False, False, False, False, False, False, False, False, False, False, False, False, False, False, False, False, False, False, False, False, False, False, False, False, False, False, False, False, False, False, False, False, False, False, False, False, False, False, False, False, False, False, False, False, False, False, False, False, False, False, False, False, False, False, False, False, False, False, False, False, False, False, False, False, False, False, False, False, False, False, False, False, False, False, False, False, False, False, False, False, False, False, False, False, False, False, False, False, False, False, False, False, False, False, False, False, False, False, False, False, False, False, False, False, False, False, False, False, False, False, False, False, False, False, False, False, False, False, False, False, True, True, True, False, True, True, False, True, True, False, True, True, True, False, True, False]\n"
     ]
    }
   ],
   "source": [
    "rx_buffers=[]\n",
    "for i in range(3):\n",
    "    # TODO: determine if we need the lock\n",
    "    rx_buffers.append(multiprocessing.Array(ctypes.c_bool, 200,lock=False))\n",
    "\n",
    "rx_counter=multiprocessing.Value(ctypes.c_uint8)\n",
    "rx_counter.value=0\n",
    "    \n",
    "# TODO: update to message size. Do we need multiple?\n",
    "tx_buffer=multiprocessing.Array(ctypes.c_uint16,128)\n",
    "\n",
    "tx_flag=multiprocessing.Value(ctypes.c_bool)\n",
    "tx_flag.value=False\n",
    "\n",
    "quit_flag=multiprocessing.Value(ctypes.c_bool, lock=False)\n",
    "quit_flag.value=False\n",
    "\n",
    "p_xcvr = multiprocessing.Process(target=transceiver, args=(tx_flag,tx_buffer,rx_counter,rx_buffers,quit_flag))\n",
    "\n",
    "p_data = multiprocessing.Process(target=data_processor, args=(tx_flag,tx_buffer,rx_counter,rx_buffers,quit_flag))\n",
    "\n",
    "p_btn = multiprocessing.Process(target=button_handler, args=[quit_flag])\n",
    "\n",
    "p_xcvr.start() # start the process\n",
    "os.system(\"taskset -p -c {} {} > /dev/null\".format(1, p_xcvr.pid))\n",
    "p_data.start() # start the process\n",
    "os.system(\"taskset -p -c {} {} > /dev/null\".format(0, p_data.pid))\n",
    "p_btn.start()\n",
    "os.system(\"taskset -p -c {} {} > /dev/null\".format(0, p_btn.pid))\n",
    "\n",
    "print(\"Started processes\")\n",
    "\n",
    "p_xcvr.join()\n",
    "p_data.join()\n",
    "p_btn.join()\n",
    "\n",
    "print(\"Quit\")\n",
    "print([val for val in rx_buffers[0]])\n",
    "# for arr in rx_buffers:\n",
    "#     print([val for val in arr])"
   ]
  },
  {
   "cell_type": "code",
   "execution_count": 6,
   "id": "5a647ddd",
   "metadata": {},
   "outputs": [
    {
     "name": "stdout",
     "output_type": "stream",
     "text": [
      "[False, False, True, False, True, False, True, False, True, False, True, False, True, False, True, False, True, False, True, False, True, False, True, False, True, False, True, False, True, False, True, False, True, False, True, False, True, False, True, False, True, False, True, False, True, False, True, False, True, False, True, False, True, False, True, False, True, False, True, False, True, False, True, False, True, False, True, False, True, False, True, False, True, False, True, False, True, False, True, False, True, False, True, False, True, False, True, False, True, False, True, False, True, False, True, False, True, False, True, False, True, False, True, False, True, False, True, False, True, False, True, False, True, False, True, False, True, False, True, False, True, False, True, False, True, False, True, False, True, False, True, False, True, False, True, False, True, False, True, False, True, False, True, False, True, False, True, False, True, False, True, False, True, False, True, False, True, False, True, False, True, False, True, False, True, False, True, False, True, False, True, False, True, False, True, False, True, False, True, False, True, False, True, False, True, False, True, False, True, False, True, False, True, False, True, False, True, False, True, False]\n"
     ]
    }
   ],
   "source": [
    "print([val for val in rx_buffers[0]])\n",
    "\n"
   ]
  },
  {
   "cell_type": "code",
   "execution_count": null,
   "id": "4ce6ee81",
   "metadata": {},
   "outputs": [],
   "source": []
  }
 ],
 "metadata": {
  "kernelspec": {
   "display_name": "Python 3 (ipykernel)",
   "language": "python",
   "name": "python3"
  },
  "language_info": {
   "codemirror_mode": {
    "name": "ipython",
    "version": 3
   },
   "file_extension": ".py",
   "mimetype": "text/x-python",
   "name": "python",
   "nbconvert_exporter": "python",
   "pygments_lexer": "ipython3",
   "version": "3.10.4"
  }
 },
 "nbformat": 4,
 "nbformat_minor": 5
}
