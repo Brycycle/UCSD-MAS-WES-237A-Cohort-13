{
 "cells": [
  {
   "cell_type": "code",
   "execution_count": 1,
   "id": "38f3b904",
   "metadata": {},
   "outputs": [
    {
     "data": {
      "application/javascript": [
       "\n",
       "try {\n",
       "require(['notebook/js/codecell'], function(codecell) {\n",
       "  codecell.CodeCell.options_default.highlight_modes[\n",
       "      'magic_text/x-csrc'] = {'reg':[/^%%microblaze/]};\n",
       "  Jupyter.notebook.events.one('kernel_ready.Kernel', function(){\n",
       "      Jupyter.notebook.get_cells().map(function(cell){\n",
       "          if (cell.cell_type == 'code'){ cell.auto_highlight(); } }) ;\n",
       "  });\n",
       "});\n",
       "} catch (e) {};\n"
      ]
     },
     "metadata": {},
     "output_type": "display_data"
    },
    {
     "data": {
      "application/javascript": [
       "\n",
       "try {\n",
       "require(['notebook/js/codecell'], function(codecell) {\n",
       "  codecell.CodeCell.options_default.highlight_modes[\n",
       "      'magic_text/x-csrc'] = {'reg':[/^%%pybind11/]};\n",
       "  Jupyter.notebook.events.one('kernel_ready.Kernel', function(){\n",
       "      Jupyter.notebook.get_cells().map(function(cell){\n",
       "          if (cell.cell_type == 'code'){ cell.auto_highlight(); } }) ;\n",
       "  });\n",
       "});\n",
       "} catch (e) {};\n"
      ]
     },
     "metadata": {},
     "output_type": "display_data"
    }
   ],
   "source": [
    "from pynq.overlays.base import BaseOverlay\n",
    "import time\n",
    "from datetime import datetime\n",
    "base = BaseOverlay(\"base.bit\")"
   ]
  },
  {
   "cell_type": "code",
   "execution_count": 2,
   "id": "e98c4ef3",
   "metadata": {},
   "outputs": [],
   "source": [
    "%%microblaze base.PMODA\n",
    "\n",
    "#include \"gpio.h\"\n",
    "#include \"pyprintf.h\"\n",
    "\n",
    "//Function to turn on/off a selected pin of PMODA\n",
    "unsigned int write_gpio(unsigned int pin, unsigned int val){\n",
    "    if (pin > 3 || pin < 1)\n",
    "    {\n",
    "        pyprintf(\"ERROR: invalid pin\");\n",
    "        return 0;\n",
    "    }\n",
    "    if (val > 1)\n",
    "    {\n",
    "        pyprintf(\"ERROR: invalid value\");\n",
    "    }\n",
    "    gpio pin_out = gpio_open(pin);\n",
    "    gpio_set_direction(pin_out, GPIO_OUT);\n",
    "    gpio_write(pin_out, val);\n",
    "    return 0;\n",
    "}\n",
    "\n",
    "//Function to read the value of a selected pin of PMODA\n",
    "unsigned int read_gpio(unsigned int pin){\n",
    "    gpio pin_in = gpio_open(pin);\n",
    "    gpio_set_direction(pin_in, GPIO_IN);\n",
    "    return gpio_read(pin_in);\n",
    "}\n",
    "\n",
    "//Function to reset all GPIO on PMODA\n",
    "unsigned int reset_all_gpio()\n",
    "{\n",
    "    for (unsigned int i=0; i <= 7; i++)\n",
    "    {\n",
    "        gpio temp_gpio = gpio_open(i);\n",
    "        gpio_close(temp_gpio);\n",
    "    }\n",
    "    return 0;\n",
    "}"
   ]
  },
  {
   "cell_type": "code",
   "execution_count": 17,
   "id": "f46c56c8",
   "metadata": {},
   "outputs": [],
   "source": [
    "def inverse_array(arr):\n",
    "    return [1 - x for x in arr]"
   ]
  },
  {
   "cell_type": "code",
   "execution_count": 53,
   "id": "ebfe3295",
   "metadata": {},
   "outputs": [
    {
     "name": "stdout",
     "output_type": "stream",
     "text": [
      "time spent: 0.04085230827331543\n"
     ]
    }
   ],
   "source": [
    "from pynq.lib import Pmod_PWM\n",
    "\n",
    "data=[]\n",
    "pwm = Pmod_PWM(base.PMODB,1)\n",
    "inputData = [1,1,0,0,1,0,1,1,1,1,0,0,1,0,0,0,1,0,1,0,1,0,0,1,1,1,0,1,1,1]\n",
    "\n",
    "timeBefore = time.time() \n",
    "for i in range(len(inputData)):\n",
    "    if inputData[i] ==1:\n",
    "        pwm.generate(26,50)\n",
    "    else:\n",
    "        pwm.stop()\n",
    "    data.append(read_gpio(1))\n",
    "    \n",
    "timeAfter = time.time() \n",
    "print('time spent: {}'.format(timeAfter-timeBefore)) \n",
    "    \n",
    "pwm.stop()"
   ]
  },
  {
   "cell_type": "code",
   "execution_count": 52,
   "id": "d1e14541",
   "metadata": {},
   "outputs": [
    {
     "name": "stdout",
     "output_type": "stream",
     "text": [
      "[1, 1, 0, 0, 1, 0, 1, 1, 1, 1, 0, 0, 1, 0, 0, 0, 1, 0, 1, 0, 1, 0, 0, 1, 1, 1, 0, 1, 1, 1]\n",
      "\n",
      "\n",
      "[1, 1, 0, 0, 1, 0, 1, 1, 1, 1, 0, 0, 1, 0, 0, 0, 1, 0, 1, 0, 1, 0, 0, 1, 1, 1, 0, 1, 1, 1]\n"
     ]
    },
    {
     "data": {
      "image/png": "[encoded data removed]",
      "text/plain": [
       "<Figure size 432x288 with 1 Axes>"
      ]
     },
     "metadata": {
      "needs_background": "light"
     },
     "output_type": "display_data"
    }
   ],
   "source": [
    "import matplotlib.pyplot as plt\n",
    "\n",
    "plt.plot(inverse_array(data))\n",
    "print(inputData)\n",
    "print('\\n')\n",
    "print(inverse_array(data))"
   ]
  },
  {
   "cell_type": "code",
   "execution_count": null,
   "id": "d517cd7b",
   "metadata": {},
   "outputs": [],
   "source": [
    "for i in range(20):\n",
    "    pwm.generate(26,50)\n",
    "    time.sleep(0.01)\n",
    "    data.append(read_gpio(1))\n",
    "    time.sleep(0.01)\n",
    "    pwm.stop()\n",
    "    time.sleep(0.01)\n",
    "    data.append(read_gpio(1))\n",
    "\n",
    "pwm.generate(26,50)\n",
    "for i in range(20):\n",
    "    data.append(read_gpio(1))\n",
    "    time.sleep(0.01)\n",
    "    \n",
    "pwm.stop()    \n",
    "for i in range(20):\n",
    "    data.append(read_gpio(1))\n",
    "    time.sleep(0.01)\n",
    "\n",
    "pwm.stop()"
   ]
  }
 ],
 "metadata": {
  "kernelspec": {
   "display_name": "Python 3 (ipykernel)",
   "language": "python",
   "name": "python3"
  },
  "language_info": {
   "codemirror_mode": {
    "name": "ipython",
    "version": 3
   },
   "file_extension": ".py",
   "mimetype": "text/x-python",
   "name": "python",
   "nbconvert_exporter": "python",
   "pygments_lexer": "ipython3",
   "version": "3.10.4"
  }
 },
 "nbformat": 4,
 "nbformat_minor": 5
}
