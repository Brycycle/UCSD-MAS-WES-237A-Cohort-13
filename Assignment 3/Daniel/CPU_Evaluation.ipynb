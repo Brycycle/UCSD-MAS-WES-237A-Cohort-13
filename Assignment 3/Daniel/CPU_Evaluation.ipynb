{
 "cells": [
  {
   "cell_type": "markdown",
   "id": "b628641c",
   "metadata": {},
   "source": [
    "## Assignment 3"
   ]
  },
  {
   "cell_type": "markdown",
   "id": "925a547e",
   "metadata": {},
   "source": [
    "### A3.0 New kernel_module code\n",
    "In the terminal, call `insmod CPUCtr.ko` to insert the CPU Counter code. Verify it was inserted for both CPUs by calling `dmesg | tail`. The CPU Counter code was developed in Lab 3"
   ]
  },
  {
   "cell_type": "markdown",
   "id": "2218e2f1",
   "metadata": {},
   "source": [
    "### A3.1 Access PMU from Python"
   ]
  },
  {
   "cell_type": "code",
   "execution_count": 1,
   "id": "5c9b1c2a",
   "metadata": {},
   "outputs": [],
   "source": [
    "import ctypes\n",
    "import multiprocessing\n",
    "import os\n",
    "import time"
   ]
  },
  {
   "cell_type": "code",
   "execution_count": 2,
   "id": "5116a70f",
   "metadata": {},
   "outputs": [],
   "source": [
    "_libct = ctypes.CDLL('./libcycletime.so')"
   ]
  },
  {
   "cell_type": "code",
   "execution_count": 3,
   "id": "04812353",
   "metadata": {},
   "outputs": [
    {
     "data": {
      "text/plain": [
       "1"
      ]
     },
     "execution_count": 3,
     "metadata": {},
     "output_type": "execute_result"
    }
   ],
   "source": [
    "_libct.init_counters(1,0)"
   ]
  },
  {
   "cell_type": "code",
   "execution_count": 4,
   "id": "df31989f",
   "metadata": {},
   "outputs": [
    {
     "name": "stdout",
     "output_type": "stream",
     "text": [
      "Elapsed cycles: 6933726\n"
     ]
    }
   ],
   "source": [
    "_libct.init_counters(1,0)\n",
    "time1=_libct.get_cyclecount()\n",
    "time.sleep(1)\n",
    "time2=_libct.get_cyclecount()\n",
    "\n",
    "print(f\"Elapsed cycles: {time2-time1}\")"
   ]
  },
  {
   "cell_type": "markdown",
   "id": "a70e1b47",
   "metadata": {},
   "source": [
    "### A3.2 Compare and Gather Data"
   ]
  },
  {
   "cell_type": "code",
   "execution_count": 5,
   "id": "0aa90f19",
   "metadata": {},
   "outputs": [],
   "source": [
    "### Program to calculate the Fibonacci sequence up to n-th term. Provided in Lab3\n",
    "def recur_fibo(n):\n",
    "   if n <= 1:\n",
    "       return n\n",
    "   else:\n",
    "       return(recur_fibo(n-1) + recur_fibo(n-2))"
   ]
  },
  {
   "cell_type": "code",
   "execution_count": 6,
   "id": "878a8d3f",
   "metadata": {},
   "outputs": [],
   "source": [
    "### Function to time the recursive fibonacci function in both cycles and \"time\" module time\n",
    "def time_fibo(n):\n",
    "    # Start timer\n",
    "    _libct.init_counters(1,0)\n",
    "    starttime=time.time()\n",
    "    startcount=_libct.get_cyclecount()\n",
    "    # Run on processor 1\n",
    "    p1 = multiprocessing.Process(target=recur_fibo, args=[n]) # the first arg defines which CPU to run the 'target' on\n",
    "    p1.start() # start the process\n",
    "    os.system(f\"taskset -c -p {1} {p1.pid} > /dev/null\")\n",
    "    # Wait for completion\n",
    "    p1.join()\n",
    "    stoptime=time.time()\n",
    "    stopcount=_libct.get_cyclecount()\n",
    "    return (stopcount - startcount, stoptime - starttime)"
   ]
  },
  {
   "cell_type": "code",
   "execution_count": 30,
   "id": "cf4d6c59",
   "metadata": {},
   "outputs": [
    {
     "name": "stdout",
     "output_type": "stream",
     "text": [
      "Running 2 terms\n",
      "Running 4 terms\n",
      "Running 6 terms\n",
      "Running 8 terms\n",
      "Running 10 terms\n",
      "Running 12 terms\n",
      "Running 14 terms\n",
      "Running 16 terms\n",
      "Running 18 terms\n",
      "Running 20 terms\n",
      "Running 22 terms\n",
      "Running 24 terms\n",
      "Running 26 terms\n",
      "Running 28 terms\n",
      "Running 30 terms\n"
     ]
    }
   ],
   "source": [
    "# Collect data\n",
    "iterations=25\n",
    "\n",
    "data_across_terms={}\n",
    "for terms in range(2,31,2):\n",
    "    print(f\"Running {terms} terms\")\n",
    "    data=[]\n",
    "    for iteration in range(iterations):\n",
    "        data.append(time_fibo(terms))\n",
    "    data_across_terms[terms]=data\n",
    "    "
   ]
  },
  {
   "cell_type": "code",
   "execution_count": 31,
   "id": "32037a22",
   "metadata": {},
   "outputs": [
    {
     "name": "stdout",
     "output_type": "stream",
     "text": [
      "Clock rate: 650.0 MHz\n"
     ]
    }
   ],
   "source": [
    "import numpy as np\n",
    "import matplotlib.pyplot as plt\n",
    "from pynq.ps import Clocks\n",
    "\n",
    "print(f\"Clock rate: {Clocks.cpu_mhz} MHz\")\n",
    "\n",
    "means=[]\n",
    "stddevs=[]\n",
    "terms_list=[]\n",
    "for terms, values in data_across_terms.items():\n",
    "    arr=np.array(values)\n",
    "    arr[:,0]=arr[:,0]/(Clocks.cpu_mhz*1000000.0)\n",
    "    means.append(np.mean(arr, axis=0))\n",
    "    stddevs.append(np.std(arr, axis=0)/np.sqrt(iterations))\n",
    "    terms_list.append(terms)"
   ]
  },
  {
   "cell_type": "code",
   "execution_count": 32,
   "id": "5c1b0a8c",
   "metadata": {},
   "outputs": [
    {
     "data": {
      "image/png": "[encoded data removed]",
      "text/plain": [
       "<Figure size 432x288 with 1 Axes>"
      ]
     },
     "metadata": {
      "needs_background": "light"
     },
     "output_type": "display_data"
    }
   ],
   "source": [
    "plt.errorbar(terms_list, [mean[0] for mean in means], yerr=[std[0] for std in stddevs], label=\"CPU Cycles\")\n",
    "plt.errorbar(terms_list, [mean[1] for mean in means], yerr=[std[1] for std in stddevs], label=\"Time Module Value\")\n",
    "\n",
    "plt.xlabel(\"Fibonacci Terms\")\n",
    "plt.ylabel(\"Seconds\")\n",
    "plt.legend()\n",
    "\n",
    "plt.title(\"Benchmarking Fibonacci (log scale)\")\n",
    "plt.yscale(\"log\")\n",
    "# plt.show()\n",
    "plt.savefig(f\"fib_log_{iterations}_iter.png\")\n",
    "\n",
    "plt.clf()\n",
    "\n",
    "plt.errorbar(terms_list, [mean[0] for mean in means], yerr=[std[0] for std in stddevs], label=\"CPU Cycles\")\n",
    "plt.errorbar(terms_list, [mean[1] for mean in means], yerr=[std[1] for std in stddevs], label=\"Time Module Value\")\n",
    "\n",
    "plt.xlabel(\"Fibonacci Terms\")\n",
    "plt.ylabel(\"Seconds\")\n",
    "plt.legend()\n",
    "\n",
    "plt.title(\"Benchmarking Fibonacci (linear scale)\")\n",
    "plt.yscale(\"linear\")\n",
    "# plt.show ()\n",
    "plt.savefig(f\"fib_lin_{iterations}_iter.png\")"
   ]
  },
  {
   "cell_type": "code",
   "execution_count": null,
   "id": "6ebece66",
   "metadata": {},
   "outputs": [],
   "source": []
  }
 ],
 "metadata": {
  "kernelspec": {
   "display_name": "Python 3 (ipykernel)",
   "language": "python",
   "name": "python3"
  },
  "language_info": {
   "codemirror_mode": {
    "name": "ipython",
    "version": 3
   },
   "file_extension": ".py",
   "mimetype": "text/x-python",
   "name": "python",
   "nbconvert_exporter": "python",
   "pygments_lexer": "ipython3",
   "version": "3.10.4"
  }
 },
 "nbformat": 4,
 "nbformat_minor": 5
}
