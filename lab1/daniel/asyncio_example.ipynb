{
 "cells": [
  {
   "cell_type": "markdown",
   "metadata": {},
   "source": [
    "# Importing some libraries"
   ]
  },
  {
   "cell_type": "code",
   "execution_count": 1,
   "metadata": {},
   "outputs": [
    {
     "data": {
      "application/javascript": [
       "\n",
       "try {\n",
       "require(['notebook/js/codecell'], function(codecell) {\n",
       "  codecell.CodeCell.options_default.highlight_modes[\n",
       "      'magic_text/x-csrc'] = {'reg':[/^%%microblaze/]};\n",
       "  Jupyter.notebook.events.one('kernel_ready.Kernel', function(){\n",
       "      Jupyter.notebook.get_cells().map(function(cell){\n",
       "          if (cell.cell_type == 'code'){ cell.auto_highlight(); } }) ;\n",
       "  });\n",
       "});\n",
       "} catch (e) {};\n"
      ]
     },
     "metadata": {},
     "output_type": "display_data"
    },
    {
     "data": {
      "application/javascript": [
       "\n",
       "try {\n",
       "require(['notebook/js/codecell'], function(codecell) {\n",
       "  codecell.CodeCell.options_default.highlight_modes[\n",
       "      'magic_text/x-csrc'] = {'reg':[/^%%pybind11/]};\n",
       "  Jupyter.notebook.events.one('kernel_ready.Kernel', function(){\n",
       "      Jupyter.notebook.get_cells().map(function(cell){\n",
       "          if (cell.cell_type == 'code'){ cell.auto_highlight(); } }) ;\n",
       "  });\n",
       "});\n",
       "} catch (e) {};\n"
      ]
     },
     "metadata": {},
     "output_type": "display_data"
    }
   ],
   "source": [
    "from pynq.overlays.base import BaseOverlay\n",
    "import pynq.lib.rgbled as rgbled \n",
    "import time"
   ]
  },
  {
   "cell_type": "markdown",
   "metadata": {},
   "source": [
    "# Programming the PL"
   ]
  },
  {
   "cell_type": "code",
   "execution_count": 2,
   "metadata": {},
   "outputs": [],
   "source": [
    "base = BaseOverlay(\"base.bit\")"
   ]
  },
  {
   "cell_type": "markdown",
   "metadata": {},
   "source": [
    "# Defining buttons and LEDs"
   ]
  },
  {
   "cell_type": "code",
   "execution_count": 3,
   "metadata": {},
   "outputs": [],
   "source": [
    "btns = base.btns_gpio\n",
    "led4 = rgbled.RGBLED(4)\n",
    "led5 = rgbled.RGBLED(5)"
   ]
  },
  {
   "cell_type": "markdown",
   "metadata": {},
   "source": [
    "# Using a loop to blink the LEDS and read from buttons"
   ]
  },
  {
   "cell_type": "code",
   "execution_count": 5,
   "metadata": {},
   "outputs": [],
   "source": [
    "while True:\n",
    "    led4.write(0x1)\n",
    "    led5.write(0x7)\n",
    "    if btns.read() != 0:\n",
    "        break\n",
    "    time.sleep(0.1)\n",
    "    led4.write(0x0)\n",
    "    led5.write(0x0)\n",
    "    if btns.read() != 0:\n",
    "        break\n",
    "    time.sleep(0.05)\n",
    "    led4.write(0x1)\n",
    "    led5.write(0x7)\n",
    "    if btns.read() != 0:\n",
    "        break\n",
    "    time.sleep(0.1)\n",
    "    led4.write(0x0)\n",
    "    led5.write(0x0)\n",
    "    if btns.read() != 0:\n",
    "        break\n",
    "    time.sleep(0.05)\n",
    "    \n",
    "    led4.write(0x7)\n",
    "    led5.write(0x4)\n",
    "    if btns.read() != 0:\n",
    "        break\n",
    "    time.sleep(0.1)\n",
    "    led4.write(0x0)\n",
    "    led5.write(0x0)\n",
    "    if btns.read() != 0:\n",
    "        break\n",
    "    time.sleep(0.05)\n",
    "    led4.write(0x7)\n",
    "    led5.write(0x4)\n",
    "    if btns.read() != 0:\n",
    "        break\n",
    "    time.sleep(0.1)\n",
    "    led4.write(0x0)\n",
    "    led5.write(0x0)\n",
    "    if btns.read() != 0:\n",
    "        break\n",
    "    time.sleep(0.05)\n",
    "\n",
    "led4.write(0x0)\n",
    "led5.write(0x0)\n"
   ]
  },
  {
   "cell_type": "markdown",
   "metadata": {},
   "source": [
    "# Using asyncio to blink the LEDS and read from buttons"
   ]
  },
  {
   "cell_type": "code",
   "execution_count": 7,
   "metadata": {},
   "outputs": [
    {
     "name": "stdout",
     "output_type": "stream",
     "text": [
      "Done.\n"
     ]
    }
   ],
   "source": [
    "import asyncio\n",
    "cond = True\n",
    "\n",
    "async def flash_leds():\n",
    "    global cond, start\n",
    "    while cond:\n",
    "        led4.write(0x1)\n",
    "        led5.write(0x7)\n",
    "        await asyncio.sleep(0.1)\n",
    "        led4.write(0x0)\n",
    "        led5.write(0x0)\n",
    "        await asyncio.sleep(0.05)\n",
    "        led4.write(0x1)\n",
    "        led5.write(0x7)\n",
    "        await asyncio.sleep(0.1)\n",
    "        led4.write(0x0)\n",
    "        led5.write(0x0)\n",
    "        await asyncio.sleep(0.05)\n",
    "\n",
    "        led4.write(0x7)\n",
    "        led5.write(0x4)\n",
    "        await asyncio.sleep(0.1)\n",
    "        led4.write(0x0)\n",
    "        led5.write(0x0)\n",
    "        await asyncio.sleep(0.05)\n",
    "        led4.write(0x7)\n",
    "        led5.write(0x4)\n",
    "        await asyncio.sleep(0.1)\n",
    "        led4.write(0x0)\n",
    "        led5.write(0x0)\n",
    "        await asyncio.sleep(0.05)\n",
    "\n",
    "async def get_btns(_loop):\n",
    "    global cond, start\n",
    "    while cond:\n",
    "        await asyncio.sleep(0.01)\n",
    "        if btns.read() != 0:\n",
    "            _loop.stop()\n",
    "            cond = False\n",
    "\n",
    "loop = asyncio.new_event_loop()\n",
    "loop.create_task(flash_leds())\n",
    "loop.create_task(get_btns(loop))\n",
    "loop.run_forever()\n",
    "loop.close()        \n",
    "led4.write(0x0)\n",
    "led5.write(0x0)\n",
    "print(\"Done.\")"
   ]
  },
  {
   "cell_type": "markdown",
   "metadata": {},
   "source": [
    "# Lab work\n",
    "Using the code from previous cell as a template, write a code to start the blinking when button 0 is pushed and stop the blinking when button 1 is pushed."
   ]
  },
  {
   "cell_type": "code",
   "execution_count": 24,
   "metadata": {},
   "outputs": [
    {
     "name": "stdout",
     "output_type": "stream",
     "text": [
      "Done.\n"
     ]
    }
   ],
   "source": [
    "# My code here.\n",
    "cond = True\n",
    "keep_blinking = False\n",
    "\n",
    "async def flash_leds():\n",
    "    global cond, start, keep_blinking\n",
    "    while cond:\n",
    "        if keep_blinking:\n",
    "            led4.write(0x1)\n",
    "            led5.write(0x7)\n",
    "            await asyncio.sleep(0.1)\n",
    "            led4.write(0x0)\n",
    "            led5.write(0x0)\n",
    "            await asyncio.sleep(0.05)\n",
    "            led4.write(0x1)\n",
    "            led5.write(0x7)\n",
    "            await asyncio.sleep(0.1)\n",
    "            led4.write(0x0)\n",
    "            led5.write(0x0)\n",
    "            await asyncio.sleep(0.05)\n",
    "\n",
    "            led4.write(0x7)\n",
    "            led5.write(0x4)\n",
    "            await asyncio.sleep(0.1)\n",
    "            led4.write(0x0)\n",
    "            led5.write(0x0)\n",
    "            await asyncio.sleep(0.05)\n",
    "            led4.write(0x7)\n",
    "            led5.write(0x4)\n",
    "            await asyncio.sleep(0.1)\n",
    "            led4.write(0x0)\n",
    "            led5.write(0x0)\n",
    "            await asyncio.sleep(0.05)\n",
    "        else:\n",
    "            led4.write(0)\n",
    "            led5.write(0)\n",
    "            await asyncio.sleep(0.1)\n",
    "\n",
    "async def get_btns(_loop):\n",
    "    global cond, start, keep_blinking\n",
    "    while cond:\n",
    "        await asyncio.sleep(0.01)\n",
    "        if btns[0].read() != 0:\n",
    "            keep_blinking = True\n",
    "        elif btns[1].read () != 0:\n",
    "            keep_blinking = False\n",
    "        elif btns[2].read () != 0:\n",
    "            _loop.stop ()\n",
    "            cond = False\n",
    "            \n",
    "loop = asyncio.new_event_loop()\n",
    "loop.create_task(flash_leds())\n",
    "loop.create_task(get_btns(loop))\n",
    "loop.run_forever()\n",
    "loop.close()        \n",
    "led4.write(0x0)\n",
    "led5.write(0x0)\n",
    "print(\"Done.\")"
   ]
  },
  {
   "cell_type": "code",
   "execution_count": null,
   "metadata": {},
   "outputs": [],
   "source": []
  }
 ],
 "metadata": {
  "kernelspec": {
   "display_name": "Python 3 (ipykernel)",
   "language": "python",
   "name": "python3"
  },
  "language_info": {
   "codemirror_mode": {
    "name": "ipython",
    "version": 3
   },
   "file_extension": ".py",
   "mimetype": "text/x-python",
   "name": "python",
   "nbconvert_exporter": "python",
   "pygments_lexer": "ipython3",
   "version": "3.10.4"
  }
 },
 "nbformat": 4,
 "nbformat_minor": 2
}
