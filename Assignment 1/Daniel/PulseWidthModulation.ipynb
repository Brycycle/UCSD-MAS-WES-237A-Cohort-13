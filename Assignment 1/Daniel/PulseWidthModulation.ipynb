{
 "cells": [
  {
   "cell_type": "markdown",
   "id": "ba7b33f0",
   "metadata": {},
   "source": [
    "# Pulse Width Modulation\n",
    "\n",
    "Daniel Rothfusz\n",
    "\n",
    "Goal: Emulate analog voltage ranges on a digital output to get varying brightness on an RGB LED"
   ]
  },
  {
   "cell_type": "code",
   "execution_count": null,
   "id": "6337acfd",
   "metadata": {},
   "outputs": [],
   "source": [
    "from pynq.overlays.base import BaseOverlay\n",
    "import time\n",
    "from datetime import datetime\n",
    "import asyncio\n",
    "base = BaseOverlay(\"base.bit\")"
   ]
  },
  {
   "cell_type": "code",
   "execution_count": null,
   "id": "30fe9400",
   "metadata": {},
   "outputs": [],
   "source": [
    "%%microblaze base.PMODB\n",
    "\n",
    "#include \"gpio.h\"\n",
    "#include \"pyprintf.h\"\n",
    "\n",
    "//Function to turn on/off a selected pin of PMODB\n",
    "unsigned int write_gpio(unsigned int pin, unsigned int val){\n",
    "    if (pin > 3 || pin < 1)\n",
    "    {\n",
    "        pyprintf(\"ERROR: invalid pin\");\n",
    "        return 0;\n",
    "    }\n",
    "    if (val > 1)\n",
    "    {\n",
    "        pyprintf(\"ERROR: invalid value\");\n",
    "    }\n",
    "    gpio pin_out = gpio_open(pin);\n",
    "    gpio_set_direction(pin_out, GPIO_OUT);\n",
    "    gpio_write(pin_out, val);\n",
    "    return 0;\n",
    "}\n",
    "\n",
    "//Function to read the value of a selected pin of PMODB\n",
    "unsigned int read_gpio(unsigned int pin){\n",
    "    gpio pin_in = gpio_open(pin);\n",
    "    gpio_set_direction(pin_in, GPIO_IN);\n",
    "    return gpio_read(pin_in);\n",
    "}\n",
    "\n",
    "//Function to reset all GPIO on PMODB\n",
    "unsigned int reset_all_gpio()\n",
    "{\n",
    "    for (unsigned int i=0; i <= 7; i++)\n",
    "    {\n",
    "        gpio temp_gpio = gpio_open(i);\n",
    "        gpio_close(temp_gpio);\n",
    "    }\n",
    "    return 0;\n",
    "}"
   ]
  },
  {
   "cell_type": "markdown",
   "id": "a3b07c8d",
   "metadata": {},
   "source": [
    "### Part 1: Reset GPIO\n"
   ]
  },
  {
   "cell_type": "code",
   "execution_count": null,
   "id": "b2443195",
   "metadata": {},
   "outputs": [],
   "source": [
    "reset_all_gpio()"
   ]
  },
  {
   "cell_type": "markdown",
   "id": "cab58b55",
   "metadata": {},
   "source": [
    "### Part 2-3: PWM GPIO code\n",
    "This section sets up async functions to run a single pin on the GPIO in PWM operation. It assumes the user has plugged their RGB LED into pins 1-3 on PMODB with the ground pin already plugged into a ground port.\n",
    "I found I could not perceive the flashing shortly after ~50 Hz"
   ]
  },
  {
   "cell_type": "code",
   "execution_count": null,
   "id": "a11822e9",
   "metadata": {},
   "outputs": [],
   "source": [
    "cond = True\n",
    "\n",
    "btns = base.btns_gpio\n",
    "\n",
    "async def enable_pwm(pin, duty_cycle, frequency):\n",
    "    global cond\n",
    "    if (pin < 0 or pin > 2):\n",
    "        cond=False\n",
    "        raise Exception(f\"Invalid pin selected: {pin}\")\n",
    "    if (duty_cycle < 0 or duty_cycle > 250):\n",
    "        cond=False\n",
    "        raise Exception(f\"Invalid duty cycle: {duty_cycle}\")\n",
    "    if frequency > 70:\n",
    "        cond=False\n",
    "        raise Exception(f\"Invalid frequency: {frequency}\")\n",
    "    # Set all output pins to output pins set to low\n",
    "    print(f\"PWM enabled at {duty_cycle}% duty_cycle and {frequency} Hz\")\n",
    "    write_gpio(1,0)\n",
    "    write_gpio(2,0)\n",
    "    write_gpio(3,0)\n",
    "    period=1.0/frequency\n",
    "    while cond:\n",
    "        if duty_cycle != 0:\n",
    "            write_gpio(pin,1)\n",
    "            await asyncio.sleep((duty_cycle/100.0)*period)\n",
    "        if duty_cycle != 100:\n",
    "            write_gpio(pin,0)\n",
    "            await asyncio.sleep((1-(duty_cycle/100.0))*period)\n",
    "\n",
    "async def get_btns(_loop):\n",
    "    global cond\n",
    "    while cond:\n",
    "        await asyncio.sleep(0.01)\n",
    "        if btns[0].read() != 0:\n",
    "            cond = False     \n",
    "    await asyncio.sleep(0.1)\n",
    "    _loop.stop()\n"
   ]
  },
  {
   "cell_type": "markdown",
   "id": "8e472547",
   "metadata": {},
   "source": [
    "### Part 4: PWM brightness"
   ]
  },
  {
   "cell_type": "code",
   "execution_count": null,
   "id": "73e588a5",
   "metadata": {},
   "outputs": [],
   "source": [
    "### 0% brightness\n",
    "cond = True\n",
    "loop = asyncio.new_event_loop()\n",
    "loop.create_task(get_btns(loop))\n",
    "loop.create_task(enable_pwm(2, 0, 70.0))\n",
    "try:\n",
    "    loop.run_forever()\n",
    "finally:\n",
    "    loop.run_until_complete(loop.shutdown_asyncgens())\n",
    "loop.close()\n",
    "reset_all_gpio()"
   ]
  },
  {
   "cell_type": "code",
   "execution_count": null,
   "id": "e45cea3e",
   "metadata": {},
   "outputs": [],
   "source": [
    "### 25% brightness\n",
    "cond = True\n",
    "loop = asyncio.new_event_loop()\n",
    "loop.create_task(get_btns(loop))\n",
    "loop.create_task(enable_pwm(2, 10, 70.0))\n",
    "try:\n",
    "    loop.run_forever()\n",
    "finally:\n",
    "    loop.run_until_complete(loop.shutdown_asyncgens())\n",
    "loop.close()\n",
    "reset_all_gpio()"
   ]
  },
  {
   "cell_type": "code",
   "execution_count": null,
   "id": "9d52b471",
   "metadata": {},
   "outputs": [],
   "source": [
    "### 50% brightness\n",
    "cond = True\n",
    "loop = asyncio.new_event_loop()\n",
    "loop.create_task(get_btns(loop))\n",
    "loop.create_task(enable_pwm(2, 30, 70.0))\n",
    "try:\n",
    "    loop.run_forever()\n",
    "finally:\n",
    "    loop.run_until_complete(loop.shutdown_asyncgens())\n",
    "loop.close()\n",
    "reset_all_gpio()"
   ]
  },
  {
   "cell_type": "code",
   "execution_count": null,
   "id": "bc3a91ea",
   "metadata": {},
   "outputs": [],
   "source": [
    "### 75% brightness\n",
    "cond = True\n",
    "loop = asyncio.new_event_loop()\n",
    "loop.create_task(get_btns(loop))\n",
    "loop.create_task(enable_pwm(2, 55, 70.0))\n",
    "try:\n",
    "    loop.run_forever()\n",
    "finally:\n",
    "    loop.run_until_complete(loop.shutdown_asyncgens())\n",
    "loop.close()\n",
    "reset_all_gpio()"
   ]
  },
  {
   "cell_type": "code",
   "execution_count": null,
   "id": "dd79c1bf",
   "metadata": {},
   "outputs": [],
   "source": [
    "### 100% brightness\n",
    "cond = True\n",
    "loop = asyncio.new_event_loop()\n",
    "loop.create_task(get_btns(loop))\n",
    "loop.create_task(enable_pwm(2, 100, 70.0))\n",
    "try:\n",
    "    loop.run_forever()\n",
    "finally:\n",
    "    loop.run_until_complete(loop.shutdown_asyncgens())\n",
    "loop.close()\n",
    "reset_all_gpio()"
   ]
  },
  {
   "cell_type": "code",
   "execution_count": null,
   "id": "60595fa0",
   "metadata": {},
   "outputs": [],
   "source": [
    "### Set OFF as a reference (to set all pins to output mode rather than tristate)\n",
    "write_gpio(3,0)\n",
    "write_gpio(2,0)\n",
    "write_gpio(1,0)"
   ]
  },
  {
   "cell_type": "code",
   "execution_count": null,
   "id": "5165a2f0",
   "metadata": {},
   "outputs": [],
   "source": [
    "### Set ON as a reference\n",
    "write_gpio(3,0)\n",
    "write_gpio(2,1)\n",
    "write_gpio(1,0)"
   ]
  },
  {
   "cell_type": "markdown",
   "id": "bdb41f28",
   "metadata": {},
   "source": [
    "### Part 5 - Duty Cycle % vs Brightness Plot\n",
    "This section I included a slider to enable more granular measurements as I tried to develop a plot of brightness over the duty cycle range"
   ]
  },
  {
   "cell_type": "code",
   "execution_count": null,
   "id": "60ff7123",
   "metadata": {},
   "outputs": [],
   "source": [
    "import ipywidgets as widgets"
   ]
  },
  {
   "cell_type": "code",
   "execution_count": null,
   "id": "86e24356",
   "metadata": {},
   "outputs": [],
   "source": [
    "sliderval = 50\n",
    "\n",
    "slider = widgets.IntSlider(\n",
    "    value=sliderval,\n",
    "    min=0,\n",
    "    max=100,\n",
    "    step=1,\n",
    "    description='Duty Cycle %:',\n",
    "    disabled=False,\n",
    "    continuous_update=False,\n",
    "    orientation='horizontal',\n",
    "    readout=True,\n",
    "    readout_format='d'\n",
    ")\n",
    "\n",
    "slider"
   ]
  },
  {
   "cell_type": "code",
   "execution_count": null,
   "id": "6e81ee9a",
   "metadata": {},
   "outputs": [],
   "source": [
    "cond = True\n",
    "loop = asyncio.new_event_loop()\n",
    "loop.create_task(get_btns(loop))\n",
    "loop.create_task(enable_pwm(1, slider.value, 70.0))\n",
    "try:\n",
    "    loop.run_forever()\n",
    "finally:\n",
    "    loop.run_until_complete(loop.shutdown_asyncgens())\n",
    "loop.close()\n",
    "reset_all_gpio()"
   ]
  },
  {
   "cell_type": "markdown",
   "id": "c7133c48",
   "metadata": {},
   "source": [
    "### Part 6 - Color Changing Blinking PWM\n",
    "In this section, I change the color via buttons while keeping a fixed PWM duty cycle and frequency and toggling on/off every 1 second"
   ]
  },
  {
   "cell_type": "code",
   "execution_count": null,
   "id": "bf9afc3f",
   "metadata": {},
   "outputs": [],
   "source": [
    "cond = True\n",
    "\n",
    "btns = base.btns_gpio\n",
    "\n",
    "# Blue=1, Green=2, Red=3\n",
    "active_pin = 1\n",
    "\n",
    "blink_on = True\n",
    "\n",
    "async def enable_blinking_pwm(duty_cycle, frequency):\n",
    "    global cond, blink_on\n",
    "    if (duty_cycle < 0 or duty_cycle > 100):\n",
    "        cond=False\n",
    "        raise Exception(f\"Invalid duty cycle: {duty_cycle}\")\n",
    "    if frequency > 100:\n",
    "        cond=False\n",
    "        raise Exception(f\"Invalid frequency: {frequency}\")\n",
    "    # Set all output pins to output pins set to low\n",
    "    print(f\"PWM enabled at {duty_cycle}% duty_cycle and {frequency} Hz\")\n",
    "    period=1.0/frequency\n",
    "    while cond:\n",
    "        # Enable PWM for selected pin if during a blink and PWM is a nonzero duty cycle\n",
    "        if duty_cycle != 0 and blink_on:\n",
    "            write_gpio(active_pin,1)\n",
    "            await asyncio.sleep((duty_cycle/100.0)*period)\n",
    "        if duty_cycle != 100 or not blink_on:\n",
    "            write_gpio(1,0)\n",
    "            write_gpio(2,0)\n",
    "            write_gpio(3,0)\n",
    "            await asyncio.sleep((1-(duty_cycle/100.0))*period)\n",
    "            \n",
    "async def blink_led():\n",
    "    global cond, blink_on\n",
    "    while cond:\n",
    "        blink_on = True\n",
    "        await asyncio.sleep(1)\n",
    "        blink_on = False\n",
    "        await asyncio.sleep(1)\n",
    "\n",
    "async def get_blinking_btns(_loop):\n",
    "    global cond, active_pin\n",
    "    while cond:\n",
    "        await asyncio.sleep(0.01)\n",
    "        if btns[0].read() != 0:\n",
    "            active_pin = 3 # Red\n",
    "        elif btns[1].read () != 0:\n",
    "            active_pin = 2 # Green\n",
    "        elif btns[2].read () != 0:\n",
    "            active_pin = 1 # Blue\n",
    "        elif btns[3].read () != 0:\n",
    "            cond = False\n",
    "            blink_on = False\n",
    "    await asyncio.sleep(2)\n",
    "    _loop.stop()"
   ]
  },
  {
   "cell_type": "code",
   "execution_count": null,
   "id": "2379b23a",
   "metadata": {},
   "outputs": [],
   "source": [
    "cond=True\n",
    "\n",
    "loop = asyncio.new_event_loop()\n",
    "loop.create_task(get_blinking_btns(loop))\n",
    "loop.create_task(enable_blinking_pwm(30, 70.0))\n",
    "loop.create_task(blink_led())\n",
    "try:\n",
    "    loop.run_forever()\n",
    "finally:\n",
    "    loop.run_until_complete(loop.shutdown_asyncgens())\n",
    "loop.close()"
   ]
  },
  {
   "cell_type": "code",
   "execution_count": null,
   "id": "91aa4b93",
   "metadata": {},
   "outputs": [],
   "source": []
  }
 ],
 "metadata": {
  "kernelspec": {
   "display_name": "Python 3 (ipykernel)",
   "language": "python",
   "name": "python3"
  },
  "language_info": {
   "codemirror_mode": {
    "name": "ipython",
    "version": 3
   },
   "file_extension": ".py",
   "mimetype": "text/x-python",
   "name": "python",
   "nbconvert_exporter": "python",
   "pygments_lexer": "ipython3",
   "version": "3.10.4"
  }
 },
 "nbformat": 4,
 "nbformat_minor": 5
}
