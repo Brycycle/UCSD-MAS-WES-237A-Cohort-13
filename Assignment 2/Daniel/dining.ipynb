{
 "cells": [
  {
   "cell_type": "markdown",
   "id": "fe7e1cbd",
   "metadata": {},
   "source": [
    "# Dining Philosophers\n",
    "Daniel Rothfusz"
   ]
  },
  {
   "cell_type": "code",
   "execution_count": 1,
   "id": "ad48483a",
   "metadata": {},
   "outputs": [
    {
     "data": {
      "application/javascript": [
       "\n",
       "try {\n",
       "require(['notebook/js/codecell'], function(codecell) {\n",
       "  codecell.CodeCell.options_default.highlight_modes[\n",
       "      'magic_text/x-csrc'] = {'reg':[/^%%microblaze/]};\n",
       "  Jupyter.notebook.events.one('kernel_ready.Kernel', function(){\n",
       "      Jupyter.notebook.get_cells().map(function(cell){\n",
       "          if (cell.cell_type == 'code'){ cell.auto_highlight(); } }) ;\n",
       "  });\n",
       "});\n",
       "} catch (e) {};\n"
      ]
     },
     "metadata": {},
     "output_type": "display_data"
    },
    {
     "data": {
      "application/javascript": [
       "\n",
       "try {\n",
       "require(['notebook/js/codecell'], function(codecell) {\n",
       "  codecell.CodeCell.options_default.highlight_modes[\n",
       "      'magic_text/x-csrc'] = {'reg':[/^%%pybind11/]};\n",
       "  Jupyter.notebook.events.one('kernel_ready.Kernel', function(){\n",
       "      Jupyter.notebook.get_cells().map(function(cell){\n",
       "          if (cell.cell_type == 'code'){ cell.auto_highlight(); } }) ;\n",
       "  });\n",
       "});\n",
       "} catch (e) {};\n"
      ]
     },
     "metadata": {},
     "output_type": "display_data"
    }
   ],
   "source": [
    "import threading\n",
    "import time\n",
    "import random\n",
    "from pynq.overlays.base import BaseOverlay\n",
    "import pynq.lib.rgbled as rgbled\n",
    "base = BaseOverlay(\"base.bit\")"
   ]
  },
  {
   "cell_type": "code",
   "execution_count": 2,
   "id": "4b4abf0d",
   "metadata": {},
   "outputs": [],
   "source": [
    "def blink(t, p, n, sign=None):\n",
    "    '''\n",
    "    Function to blink the LEDs\n",
    "    Params:\n",
    "      t: time (in seconds) for the blink pattern to continue\n",
    "      p: period of a full on-off cycle of blinking (in seconds)\n",
    "      n: index of the LED (0 to 4) with index 4 being an RGB LED\n",
    "      sign: threading Event, if present check if set to abort function early\n",
    "    '''\n",
    "    g_led=rgbled.RGBLED(4)\n",
    "    for iteration in range (int(2*t/p)):\n",
    "        if n==4:\n",
    "            if g_led.read () > 0:\n",
    "                g_led.off ()\n",
    "            else:\n",
    "                g_led.write (0x2)\n",
    "        else:\n",
    "            \n",
    "            base.leds[n].toggle()\n",
    "        time.sleep(p/2)\n",
    "        if (sign != None):\n",
    "            if sign.is_set ():\n",
    "                break\n",
    "    # Reset LEDS\n",
    "    if n==4:\n",
    "        g_led.off ()\n",
    "    else:\n",
    "        base.leds[n].off()"
   ]
  },
  {
   "cell_type": "markdown",
   "id": "003a873d",
   "metadata": {},
   "source": [
    "### Test Blink Function"
   ]
  },
  {
   "cell_type": "code",
   "execution_count": 3,
   "id": "c13e5b17",
   "metadata": {},
   "outputs": [],
   "source": [
    "for i in range (5):\n",
    "    blink(5, 1, i)\n"
   ]
  },
  {
   "cell_type": "markdown",
   "id": "a74107c2",
   "metadata": {},
   "source": [
    "### Deterministic Timing"
   ]
  },
  {
   "cell_type": "code",
   "execution_count": 35,
   "id": "a98cb27a",
   "metadata": {},
   "outputs": [
    {
     "name": "stdout",
     "output_type": "stream",
     "text": [
      "Stop signal sent\n",
      "Thread-89 (philosopher) joined\n",
      "Thread-90 (philosopher) joined\n",
      "Thread-91 (philosopher) joined\n",
      "Thread-92 (philosopher) joined\n",
      "Thread-93 (philosopher) joined\n",
      "Thread-94 (buttons) joined\n"
     ]
    }
   ],
   "source": [
    "eating_duration=3\n",
    "eating_period=0.2\n",
    "napping_duration=1\n",
    "napping_period=1\n",
    "\n",
    "btns = base.btns_gpio\n",
    "\n",
    "signal = threading.Event ()\n",
    "\n",
    "def philosopher(fork1_, fork2_, num):\n",
    "    global signal\n",
    "    while not signal.is_set():\n",
    "        fork1_.acquire(True)\n",
    "        fork2_.acquire(True)\n",
    "        blink(eating_duration, eating_period, num, signal)\n",
    "        fork2_.release()\n",
    "        fork1_.release()\n",
    "        if signal.is_set ():\n",
    "            continue   \n",
    "        blink(napping_duration, napping_period, num, signal)\n",
    "        \n",
    "        \n",
    "def buttons():\n",
    "    global signal\n",
    "    while not signal.is_set():\n",
    "        time.sleep(0.1)\n",
    "        if btns.read() != 0:\n",
    "            print(f\"Stop signal sent\")\n",
    "            signal.set()\n",
    "\n",
    "forks=[]\n",
    "for i in range(5):\n",
    "    forks.append(threading.Lock())\n",
    "threads=[]\n",
    "for i in range(5):\n",
    "    t = threading.Thread(target=philosopher, args=[forks[i], forks[(i+1)%5], i])\n",
    "    threads.append(t)\n",
    "    t.start()\n",
    "btn = threading.Thread(target=buttons, args=[])\n",
    "threads.append(btn)\n",
    "btn.start()\n",
    "\n",
    "for t in threads:\n",
    "    name = t.name\n",
    "    t.join()\n",
    "    print('{} joined'.format(name))"
   ]
  },
  {
   "cell_type": "markdown",
   "id": "9d545f17",
   "metadata": {},
   "source": [
    "### Random Timing"
   ]
  },
  {
   "cell_type": "code",
   "execution_count": 7,
   "id": "d65dcdbe",
   "metadata": {},
   "outputs": [
    {
     "name": "stdout",
     "output_type": "stream",
     "text": [
      "Stop signal sent\n",
      "Thread-23 (philosopher) joined\n",
      "Thread-24 (philosopher) joined\n",
      "Thread-25 (philosopher) joined\n",
      "Thread-26 (philosopher) joined\n",
      "Thread-27 (philosopher) joined\n",
      "Thread-28 (buttons) joined\n"
     ]
    }
   ],
   "source": [
    "base_eating_duration=3\n",
    "eating_period=0.2\n",
    "base_napping_duration=1\n",
    "napping_period=1\n",
    "\n",
    "btns = base.btns_gpio\n",
    "\n",
    "signal = threading.Event ()\n",
    "\n",
    "def philosopher(fork1_, fork2_, num):\n",
    "    global signal\n",
    "    while not signal.is_set():\n",
    "        fork1_.acquire(True)\n",
    "        fork2_.acquire(True)\n",
    "        blink(base_eating_duration+random.randint(0,2), eating_period, num, signal)\n",
    "        fork2_.release()\n",
    "        fork1_.release()\n",
    "        if signal.is_set ():\n",
    "            continue   \n",
    "        blink(base_napping_duration+random.randint(0,2), napping_period, num, signal)\n",
    "        \n",
    "        \n",
    "def buttons():\n",
    "    global signal\n",
    "    while not signal.is_set():\n",
    "        time.sleep(0.1)\n",
    "        if btns.read() != 0:\n",
    "            print(f\"Stop signal sent\")\n",
    "            signal.set()\n",
    "\n",
    "forks=[]\n",
    "for i in range(5):\n",
    "    forks.append(threading.Lock())\n",
    "threads=[]\n",
    "for i in range(4):\n",
    "    t = threading.Thread(target=philosopher, args=[forks[i], forks[(i+1)%5], i])\n",
    "    threads.append(t)\n",
    "    t.start()\n",
    "# Last thread has alternate order of fork pickup to prevent deadlock/starvation cycles\n",
    "last_thread=threading.Thread(target=philosopher, args=[forks[0], forks[4], 4])\n",
    "threads.append(last_thread)\n",
    "last_thread.start()\n",
    "btn = threading.Thread(target=buttons, args=[])\n",
    "threads.append(btn)\n",
    "btn.start()\n",
    "\n",
    "for t in threads:\n",
    "    name = t.name\n",
    "    t.join()\n",
    "    print('{} joined'.format(name))"
   ]
  },
  {
   "cell_type": "code",
   "execution_count": null,
   "id": "006fe89d",
   "metadata": {},
   "outputs": [],
   "source": []
  }
 ],
 "metadata": {
  "kernelspec": {
   "display_name": "Python 3 (ipykernel)",
   "language": "python",
   "name": "python3"
  },
  "language_info": {
   "codemirror_mode": {
    "name": "ipython",
    "version": 3
   },
   "file_extension": ".py",
   "mimetype": "text/x-python",
   "name": "python",
   "nbconvert_exporter": "python",
   "pygments_lexer": "ipython3",
   "version": "3.10.4"
  }
 },
 "nbformat": 4,
 "nbformat_minor": 5
}
