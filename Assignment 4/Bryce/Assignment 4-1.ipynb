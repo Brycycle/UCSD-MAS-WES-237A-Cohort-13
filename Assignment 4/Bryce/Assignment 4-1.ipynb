{
 "cells": [
  {
   "cell_type": "markdown",
   "id": "5a97a5a9",
   "metadata": {},
   "source": [
    "# Imports"
   ]
  },
  {
   "cell_type": "code",
   "execution_count": 1,
   "id": "06b1455b",
   "metadata": {},
   "outputs": [
    {
     "data": {
      "application/javascript": [
       "\n",
       "try {\n",
       "require(['notebook/js/codecell'], function(codecell) {\n",
       "  codecell.CodeCell.options_default.highlight_modes[\n",
       "      'magic_text/x-csrc'] = {'reg':[/^%%microblaze/]};\n",
       "  Jupyter.notebook.events.one('kernel_ready.Kernel', function(){\n",
       "      Jupyter.notebook.get_cells().map(function(cell){\n",
       "          if (cell.cell_type == 'code'){ cell.auto_highlight(); } }) ;\n",
       "  });\n",
       "});\n",
       "} catch (e) {};\n"
      ]
     },
     "metadata": {},
     "output_type": "display_data"
    },
    {
     "data": {
      "application/javascript": [
       "\n",
       "try {\n",
       "require(['notebook/js/codecell'], function(codecell) {\n",
       "  codecell.CodeCell.options_default.highlight_modes[\n",
       "      'magic_text/x-csrc'] = {'reg':[/^%%pybind11/]};\n",
       "  Jupyter.notebook.events.one('kernel_ready.Kernel', function(){\n",
       "      Jupyter.notebook.get_cells().map(function(cell){\n",
       "          if (cell.cell_type == 'code'){ cell.auto_highlight(); } }) ;\n",
       "  });\n",
       "});\n",
       "} catch (e) {};\n"
      ]
     },
     "metadata": {},
     "output_type": "display_data"
    }
   ],
   "source": [
    "from pynq.overlays.base import BaseOverlay\n",
    "import time, multiprocessing, socket\n",
    "base = BaseOverlay(\"base.bit\")\n",
    "btns = base.btns_gpio"
   ]
  },
  {
   "cell_type": "markdown",
   "id": "e8676c32",
   "metadata": {},
   "source": [
    "# Buzzer"
   ]
  },
  {
   "cell_type": "code",
   "execution_count": 2,
   "id": "2a5863f6",
   "metadata": {},
   "outputs": [],
   "source": [
    "%%microblaze base.PMODB\n",
    "\n",
    "#include \"gpio.h\"\n",
    "#include \"pyprintf.h\"\n",
    "\n",
    "int write_gpio(unsigned int pin, unsigned int val){\n",
    "    if (val > 1){\n",
    "        pyprintf(\"pin value must be 0 or 1\");\n",
    "    }\n",
    "    gpio pin_out = gpio_open(pin);\n",
    "    gpio_set_direction(pin_out, GPIO_OUT);\n",
    "    gpio_write(pin_out, val);\n",
    "    return 0;\n",
    "}"
   ]
  },
  {
   "cell_type": "code",
   "execution_count": 3,
   "id": "582e90b1",
   "metadata": {},
   "outputs": [],
   "source": [
    "pin = 0\n",
    "\n",
    "def buzz():\n",
    "    write_gpio(pin, 1)\n",
    "    time.sleep(1/2)\n",
    "    write_gpio(pin, 0)\n",
    " \n",
    "        \n",
    "buzz()"
   ]
  },
  {
   "cell_type": "markdown",
   "id": "1a720ff5",
   "metadata": {},
   "source": [
    "# Server"
   ]
  },
  {
   "cell_type": "code",
   "execution_count": 21,
   "id": "d21b2d59",
   "metadata": {},
   "outputs": [],
   "source": [
    "def server(startTime):\n",
    "    sock = socket.socket(socket.AF_INET, socket.SOCK_STREAM)\n",
    "    host = ''\n",
    "    port = 8000\n",
    "    sock.bind((host, port)) \n",
    "    sock.listen()\n",
    "    print(\"The server is ready to receive\")\n",
    "    conn, addr = sock.accept()\n",
    "    print('Connected by', addr)\n",
    "    while True:\n",
    "        data = conn.recv(1024).decode()\n",
    "        print(data)\n",
    "        if len(data) > 0:\n",
    "            buzz()\n",
    "        elif len(data) == 0:\n",
    "            break\n",
    "        time.sleep(1)\n",
    "    sock.close()\n",
    "    endTime = time.time()\n",
    "    print('Server Runtime: {}'.format(endTime - startTime))"
   ]
  },
  {
   "cell_type": "markdown",
   "id": "e126a12b",
   "metadata": {},
   "source": [
    "# Client"
   ]
  },
  {
   "cell_type": "code",
   "execution_count": 22,
   "id": "a9ac0905",
   "metadata": {},
   "outputs": [],
   "source": [
    "def client(startTime):\n",
    "    sock = socket.socket(socket.AF_INET, socket.SOCK_STREAM)\n",
    "    host = '192.168.2.1'\n",
    "    port = 8001\n",
    "    print(\"Attempting Connnection\")\n",
    "    sock.connect((host, port))\n",
    "    print(\"The client is ready to send messages\")\n",
    "    \n",
    "    while True:\n",
    "        if btns[1].read() != 0:\n",
    "            data = \"buzz\"\n",
    "            sock.send(data.encode())\n",
    "        if btns[2].read() != 0:\n",
    "            print(\"Closing the client socket...\")\n",
    "            sock.close()\n",
    "            print(\"Done!\")\n",
    "            break\n",
    "        time.sleep(.2)\n",
    "    endTime = time.time()\n",
    "    print('Client Runtime: {}'.format(endTime - startTime))\n",
    "    \n",
    "def start_client():\n",
    "    print(\"The client is ready to start\")\n",
    "    while True:\n",
    "        if btns[0].read() != 0:\n",
    "            print(\"Starting client...\")\n",
    "            startTime = time.time()\n",
    "            client(startTime)\n",
    "        if btns[2].read() != 0:\n",
    "            break      "
   ]
  },
  {
   "cell_type": "markdown",
   "id": "16fd0492",
   "metadata": {},
   "source": [
    "# Multiprocessing"
   ]
  },
  {
   "cell_type": "code",
   "execution_count": 27,
   "id": "18d0fe94",
   "metadata": {},
   "outputs": [
    {
     "name": "stdout",
     "output_type": "stream",
     "text": [
      "The server is ready to receive\n",
      "The client is ready to start\n",
      "Connected by ('192.168.2.1', 18878)\n",
      "Starting client...\n",
      "Attempting Connnection\n",
      "The client is ready to send messages\n",
      "buzz\n",
      "buzz\n",
      "buzz\n",
      "buzzbuzz\n",
      "buzzbuzz\n",
      "buzz\n",
      "buzzbuzzbuzz\n",
      "buzzbuzzbuzzbuzzbuzz\n",
      "buzz\n",
      "buzz\n",
      "buzzbuzzbuzzbuzzbuzz\n",
      "buzzbuzzbuzz\n",
      "buzz\n",
      "\n",
      "Server Runtime: 417.73328375816345\n",
      "Closing the client socket...\n",
      "Done!\n",
      "Client Runtime: 350.20819878578186\n",
      "Client Process-27 has finished\n",
      "Server Process-26 has finished\n"
     ]
    }
   ],
   "source": [
    "# Launch server\n",
    "srvrStartTime = time.time()\n",
    "srvr = multiprocessing.Process(target=server, args=(srvrStartTime,)) \n",
    "srvr.start() \n",
    "\n",
    "# Launch client\n",
    "clnt = multiprocessing.Process(target=start_client, args=())\n",
    "clnt.start() \n",
    "\n",
    "sName = srvr.name \n",
    "cName = clnt.name \n",
    "\n",
    "clnt.join() \n",
    "print('Client {} has finished'.format(cName))\n",
    "\n",
    "srvr.join() # wait for the server to finish\n",
    "print('Server {} has finished'.format(sName))"
   ]
  },
  {
   "cell_type": "code",
   "execution_count": null,
   "id": "8f7a3224",
   "metadata": {},
   "outputs": [],
   "source": []
  }
 ],
 "metadata": {
  "kernelspec": {
   "display_name": "Python 3 (ipykernel)",
   "language": "python",
   "name": "python3"
  },
  "language_info": {
   "codemirror_mode": {
    "name": "ipython",
    "version": 3
   },
   "file_extension": ".py",
   "mimetype": "text/x-python",
   "name": "python",
   "nbconvert_exporter": "python",
   "pygments_lexer": "ipython3",
   "version": "3.10.4"
  }
 },
 "nbformat": 4,
 "nbformat_minor": 5
}
