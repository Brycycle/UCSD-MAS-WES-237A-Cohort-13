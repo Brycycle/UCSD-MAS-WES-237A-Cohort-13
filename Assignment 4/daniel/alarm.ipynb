{
 "cells": [
  {
   "cell_type": "code",
   "execution_count": 21,
   "id": "88c73024",
   "metadata": {},
   "outputs": [],
   "source": [
    "from pynq.overlays.base import BaseOverlay\n",
    "base = BaseOverlay(\"base.bit\")\n",
    "\n",
    "btns = base.btns_gpio\n",
    "leds = base.leds"
   ]
  },
  {
   "cell_type": "code",
   "execution_count": 22,
   "id": "0ce3edae",
   "metadata": {},
   "outputs": [],
   "source": [
    "from pynq.lib import Pmod_PWM\n",
    "import time\n",
    "\n",
    "def buzz():\n",
    "    pwm = Pmod_PWM(base.PMODB,2)\n",
    "\n",
    "    period=1250 # 1/freq (MHz), 1250us = 800 Hz\n",
    "    pwm.generate(period,50)\n",
    "\n",
    "    # Sleep for 4 seconds and stop the timer\n",
    "    time.sleep(0.5)\n",
    "    pwm.stop()"
   ]
  },
  {
   "cell_type": "code",
   "execution_count": 23,
   "id": "d2be2c84",
   "metadata": {},
   "outputs": [],
   "source": [
    "buzz()"
   ]
  },
  {
   "cell_type": "code",
   "execution_count": 24,
   "id": "aa93282c",
   "metadata": {},
   "outputs": [],
   "source": [
    "import socket\n",
    "import multiprocessing\n",
    "\n",
    "def server_processor():\n",
    "    server_sock = socket.socket(socket.AF_INET, socket.SOCK_STREAM)\n",
    "\n",
    "    # 1: Bind the socket to the pynq board <CLIENT-IP> at port <LISTENING-PORT>\n",
    "    server_sock.bind(('',57103))\n",
    "    # 2: Accept connections\n",
    "    server_sock.listen()\n",
    "    conn, client_addr = server_sock.accept()\n",
    "    print(f\"Server: Client connected from address {client_addr}\")\n",
    "    while True:\n",
    "        rcv_message = conn.recv(1024)\n",
    "        if len(rcv_message) > 0:\n",
    "            print(f\"Server: Buzzing\")\n",
    "            buzz()\n",
    "        else:\n",
    "            break\n",
    "    print(f\"Server: Closing\")\n",
    "    server_sock.close()\n",
    "    \n",
    "    \n",
    "def client_processor():\n",
    "    client_sock = socket.socket(socket.AF_INET, socket.SOCK_STREAM)\n",
    "    \n",
    "    while btns[0].read() == 0:\n",
    "        time.sleep(0.1)\n",
    "    print(f\"Client: connecting...\")\n",
    "    client_sock.connect(('192.168.2.254',57106))\n",
    "    print(f\"Client: connected\")\n",
    "    while btns[2].read() == 0:\n",
    "        if btns[1].read() != 0:\n",
    "            client_sock.sendall(\"buzz\".encode())\n",
    "        time.sleep (0.1)\n",
    "    print(f\"Client: Closing\")\n",
    "    client_sock.close()"
   ]
  },
  {
   "cell_type": "code",
   "execution_count": 25,
   "id": "ed3da9e7",
   "metadata": {},
   "outputs": [
    {
     "name": "stdout",
     "output_type": "stream",
     "text": [
      "Server: Client connected from address ('192.168.2.254', 37103)\n",
      "Client: connecting...\n",
      "Client: connected\n",
      "Server: Buzzing\n",
      "Server: Buzzing\n",
      "Server: Buzzing\n",
      "Server: Buzzing\n",
      "Server: Buzzing\n",
      "Server: Buzzing\n",
      "Server: Buzzing\n",
      "Server: Buzzing\n",
      "Server: Buzzing\n",
      "Server: Buzzing\n",
      "Server: Buzzing\n",
      "Server: Buzzing\n",
      "Server: Buzzing\n",
      "Server: Buzzing\n",
      "Server: Buzzing\n",
      "Server: Buzzing\n",
      "Server: Buzzing\n",
      "Server: Buzzing\n",
      "Server: Buzzing\n",
      "Server: Buzzing\n",
      "Server: Buzzing\n",
      "Server: Buzzing\n",
      "Server: Buzzing\n",
      "Server: Buzzing\n",
      "Server: Buzzing\n",
      "Server: Buzzing\n",
      "Server: Buzzing\n",
      "Server: Buzzing\n",
      "Server: Buzzing\n",
      "Server: Buzzing\n",
      "Server: Buzzing\n",
      "Server: Buzzing\n",
      "Server: Buzzing\n",
      "Server: Buzzing\n",
      "Server: Buzzing\n",
      "Server: Buzzing\n",
      "Server: Buzzing\n",
      "Server: Buzzing\n",
      "Server: Buzzing\n",
      "Server: Buzzing\n",
      "Server: Buzzing\n",
      "Server: Buzzing\n",
      "Server: Buzzing\n",
      "Server: Buzzing\n",
      "Server: Buzzing\n",
      "Client: Closing\n",
      "Server: Closing\n"
     ]
    }
   ],
   "source": [
    "p_server = multiprocessing.Process(target=server_processor, args=[])\n",
    "p_server.start()\n",
    "\n",
    "p_client = multiprocessing.Process(target=client_processor, args=[])\n",
    "p_client.start()\n",
    "\n",
    "p_client.join()\n",
    "p_server.join()"
   ]
  },
  {
   "cell_type": "code",
   "execution_count": null,
   "id": "39b3f73a",
   "metadata": {},
   "outputs": [],
   "source": []
  }
 ],
 "metadata": {
  "kernelspec": {
   "display_name": "Python 3 (ipykernel)",
   "language": "python",
   "name": "python3"
  },
  "language_info": {
   "codemirror_mode": {
    "name": "ipython",
    "version": 3
   },
   "file_extension": ".py",
   "mimetype": "text/x-python",
   "name": "python",
   "nbconvert_exporter": "python",
   "pygments_lexer": "ipython3",
   "version": "3.10.4"
  }
 },
 "nbformat": 4,
 "nbformat_minor": 5
}
