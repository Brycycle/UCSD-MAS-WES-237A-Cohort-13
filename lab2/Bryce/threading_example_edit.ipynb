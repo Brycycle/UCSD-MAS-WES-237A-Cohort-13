{
 "cells": [
  {
   "cell_type": "markdown",
   "metadata": {},
   "source": [
    "# threading\n",
    "importing required libraries and programing our board"
   ]
  },
  {
   "cell_type": "code",
   "execution_count": 1,
   "metadata": {},
   "outputs": [
    {
     "data": {
      "application/javascript": [
       "\n",
       "try {\n",
       "require(['notebook/js/codecell'], function(codecell) {\n",
       "  codecell.CodeCell.options_default.highlight_modes[\n",
       "      'magic_text/x-csrc'] = {'reg':[/^%%microblaze/]};\n",
       "  Jupyter.notebook.events.one('kernel_ready.Kernel', function(){\n",
       "      Jupyter.notebook.get_cells().map(function(cell){\n",
       "          if (cell.cell_type == 'code'){ cell.auto_highlight(); } }) ;\n",
       "  });\n",
       "});\n",
       "} catch (e) {};\n"
      ]
     },
     "metadata": {},
     "output_type": "display_data"
    },
    {
     "data": {
      "application/javascript": [
       "\n",
       "try {\n",
       "require(['notebook/js/codecell'], function(codecell) {\n",
       "  codecell.CodeCell.options_default.highlight_modes[\n",
       "      'magic_text/x-csrc'] = {'reg':[/^%%pybind11/]};\n",
       "  Jupyter.notebook.events.one('kernel_ready.Kernel', function(){\n",
       "      Jupyter.notebook.get_cells().map(function(cell){\n",
       "          if (cell.cell_type == 'code'){ cell.auto_highlight(); } }) ;\n",
       "  });\n",
       "});\n",
       "} catch (e) {};\n"
      ]
     },
     "metadata": {},
     "output_type": "display_data"
    }
   ],
   "source": [
    "import threading\n",
    "import time\n",
    "from pynq.overlays.base import BaseOverlay\n",
    "base = BaseOverlay(\"base.bit\")"
   ]
  },
  {
   "cell_type": "markdown",
   "metadata": {},
   "source": [
    "# Two threads, single resource\n",
    "\n",
    "Here we will define two threads, each responsible for blinking a different LED light. Additionally, we define a single resource to be shared between them. \n",
    "\n",
    "When thread0 has the resource, led0 will blink for a specified amount of time. Here, the total time is 50 x 0.02 seconds = 1 second. After 1 second, thread0 will release the resource and will proceed to wait for the resource to become available again.\n",
    "\n",
    "The same scenario happens with thread1 and led1."
   ]
  },
  {
   "cell_type": "code",
   "execution_count": 2,
   "metadata": {},
   "outputs": [
    {
     "name": "stdout",
     "output_type": "stream",
     "text": [
      "Worker 0 has the lock\n"
     ]
    },
    {
     "name": "stderr",
     "output_type": "stream",
     "text": [
      "/tmp/ipykernel_18970/1470821917.py:37: DeprecationWarning: getName() is deprecated, get the name attribute instead\n",
      "  name = t.getName()\n"
     ]
    },
    {
     "name": "stdout",
     "output_type": "stream",
     "text": [
      "Worker 1 has the lock\n",
      "Worker 0 has the lock\n",
      "Worker 1 has the lock\n",
      "Worker 0 has the lock\n",
      "Worker 0 has the lock\n",
      "Worker 0 is done.Worker 1 has the lock\n",
      "\n",
      "Thread-5 (worker_t) joined\n",
      "Worker 1 has the lock\n",
      "Worker 1 is done.\n",
      "Thread-6 (worker_t) joined\n"
     ]
    }
   ],
   "source": [
    "def blink(t, d, n):\n",
    "    '''\n",
    "    Function to blink the LEDs\n",
    "    Params:\n",
    "      t: number of times to blink the LED\n",
    "      d: duration (in seconds) for the LED to be on/off\n",
    "      n: index of the LED (0 to 3)\n",
    "    '''\n",
    "    for i in range(t):\n",
    "        base.leds[n].toggle()\n",
    "        time.sleep(d)\n",
    "    base.leds[n].off()\n",
    "\n",
    "def worker_t(_l, num):\n",
    "    '''\n",
    "    Worker function to try and acquire resource and blink the LED\n",
    "    _l: threading lock (resource)\n",
    "    num: index representing the LED and thread number.\n",
    "    '''\n",
    "    for i in range(4):\n",
    "        using_resource = _l.acquire(True)    \n",
    "        print(\"Worker {} has the lock\".format(num))\n",
    "        blink(50, 0.02, num)\n",
    "        _l.release()\n",
    "        time.sleep(0) # yeild\n",
    "    print(\"Worker {} is done.\".format(num))\n",
    "        \n",
    "# Initialize and launch the threads\n",
    "threads = []\n",
    "fork = threading.Lock()\n",
    "for i in range(2):\n",
    "    t = threading.Thread(target=worker_t, args=(fork, i))\n",
    "    threads.append(t)\n",
    "    t.start()\n",
    "\n",
    "for t in threads:\n",
    "    name = t.getName()\n",
    "    t.join()\n",
    "    print('{} joined'.format(name))"
   ]
  },
  {
   "cell_type": "markdown",
   "metadata": {},
   "source": [
    "# Two threads, two resource\n",
    "\n",
    "Here we examine what happens with two threads and two resources trying to be shared between them.\n",
    "\n",
    "The order of operations is as follows.\n",
    "\n",
    "The thread attempts to acquire resource0. If it's successful, it blinks 50 times x 0.02 seconds = 1 second, then attemps to get resource1. If the thread is successful in acquiring resource1, it releases resource0 and procedes to blink 5 times for 0.1 second = 1 second. "
   ]
  },
  {
   "cell_type": "code",
   "execution_count": null,
   "metadata": {},
   "outputs": [
    {
     "name": "stdout",
     "output_type": "stream",
     "text": [
      "Worker 0 has lock0\n"
     ]
    },
    {
     "name": "stderr",
     "output_type": "stream",
     "text": [
      "/tmp/ipykernel_11001/2415493498.py:38: DeprecationWarning: getName() is deprecated, get the name attribute instead\n",
      "  name = t.getName()\n"
     ]
    },
    {
     "name": "stdout",
     "output_type": "stream",
     "text": [
      "Worker 0 has lock1Worker 1 has lock0\n",
      "\n"
     ]
    }
   ],
   "source": [
    "def worker_t(_l0, _l1, num):\n",
    "    '''\n",
    "    Worker function to try and acquire resource and blink the LED\n",
    "    _l0: threading lock0 (resource0)\n",
    "    _l1: threading lock1 (resource1)\n",
    "    num: index representing the LED and thread number.\n",
    "    init: which resource this thread starts with (0 or 1)\n",
    "    '''\n",
    "    using_resource0 = False\n",
    "    using_resource1 = False\n",
    "        \n",
    "    for i in range(4):\n",
    "        using_resource0 = _l0.acquire(True)\n",
    "        if using_resource1:\n",
    "            _l1.release()\n",
    "        print(\"Worker {} has lock0\".format(num))\n",
    "        blink(50, 0.02, num)\n",
    "    \n",
    "        using_resource1 = _l1.acquire(True)\n",
    "        if using_resource0:\n",
    "            _l0.release()\n",
    "        print(\"Worker {} has lock1\".format(num))\n",
    "        blink(5, 0.1, num)\n",
    "        \n",
    "        time.sleep(0) # yeild\n",
    "    print(\"Worker {} is done.\".format(num))\n",
    "        \n",
    "# Initialize and launch the threads\n",
    "threads = []\n",
    "fork = threading.Lock()\n",
    "fork1 = threading.Lock()\n",
    "for i in range(2):\n",
    "    t = threading.Thread(target=worker_t, args=(fork, fork1, i))\n",
    "    threads.append(t)\n",
    "    t.start()\n",
    "\n",
    "for t in threads:\n",
    "    name = t.getName()\n",
    "    t.join()\n",
    "    print('{} joined'.format(name))"
   ]
  },
  {
   "cell_type": "markdown",
   "metadata": {},
   "source": [
    "You may have notied (even before running the code) that there's a problem! What happens when thread0 has resource1 and thread1 has resource0! Each is waiting for the other to release their resource in order to continue.\n",
    "\n",
    "This is a **deadlock**. Adjust the code above to prevent a deadlock."
   ]
  },
  {
   "cell_type": "markdown",
   "metadata": {},
   "source": [
    "# Non-blocking Acquire\n",
    "\n",
    "In the above code, when _l.acquire(True)_ was used, the thread stopped executing code and waited for the resource to be acquired. This is called **blocking**: stopping the execution of code and waiting for something to happen. Another example of **blocking** is if you use _input()_ in Python. This will stop the code and wait for user input.\n",
    "\n",
    "What if we don't want to stop the code execution? We can use non-blocking version of the acquire() function. In the code below, _resource_available_ will be True if the thread currently has the resource and False if it does not. \n",
    "\n",
    "Complete the code to and print and toggle LED when lock is not available."
   ]
  },
  {
   "cell_type": "code",
   "execution_count": 5,
   "metadata": {},
   "outputs": [
    {
     "name": "stdout",
     "output_type": "stream",
     "text": [
      "Worker 0 has the lock0Worker 1 waiting for lock0\n",
      "\n"
     ]
    },
    {
     "name": "stderr",
     "output_type": "stream",
     "text": [
      "/tmp/ipykernel_21386/2317492693.py:66: DeprecationWarning: getName() is deprecated, get the name attribute instead\n",
      "  name = t.getName()\n"
     ]
    },
    {
     "name": "stdout",
     "output_type": "stream",
     "text": [
      "Worker 0 has released lock0\n",
      "Worker 1 has the lock1\n",
      "Worker 1 has released lock1\n",
      "Worker 0 has the lock1\n",
      "Worker 0 has released lock1\n",
      "Worker 1 has the lock0\n",
      "Worker 1 has released lock0\n",
      "Worker 0 has the lock0\n",
      "Worker 0 has released lock0\n",
      "Worker 1 has the lock1\n",
      "Worker 1 has released lock1\n",
      "Worker 0 has the lock1\n",
      "Worker 0 has released lock1\n",
      "Worker 1 has the lock0\n",
      "Worker 1 has released lock0\n",
      "Worker 0 has the lock0\n",
      "Worker 0 has released lock0\n",
      "Worker 1 has the lock1\n",
      "Worker 1 has released lock1\n",
      "Worker 0 has the lock1\n",
      "Worker 0 has released lock1\n",
      "Worker 1 has the lock0\n",
      "Worker 1 has released lock0\n",
      "Worker 0 has the lock0\n",
      "Worker 0 has released lock0\n",
      "Worker 1 has the lock1\n",
      "Worker 1 has released lock1\n",
      "Worker 0 has the lock1\n",
      "Worker 0 has released lock1\n",
      "Worker 1 has the lock0\n",
      "Worker 1 has released lock0\n",
      "Worker 0 has the lock0\n",
      "Worker 0 has released lock0\n",
      "Worker 1 has the lock1\n",
      "Worker 1 has released lock1\n",
      "Worker 0 has the lock1\n",
      "Worker 0 has released lock1\n",
      "Worker 1 has the lock0\n",
      "Worker 1 has released lock0\n",
      "Worker 0 has the lock0\n",
      "Worker 0 has released lock0\n",
      "Worker 1 has the lock1\n",
      "Worker 1 has released lock1\n",
      "Worker 0 has the lock1\n",
      "Worker 0 has released lock1\n",
      "Worker 1 has the lock0\n",
      "Worker 1 has released lock0\n",
      "Worker 0 has the lock0\n",
      "Worker 0 has released lock0\n",
      "Worker 1 has the lock1\n",
      "Worker 1 has released lock1\n",
      "Worker 0 has the lock1\n",
      "Worker 0 has released lock1\n",
      "Worker 1 has the lock0\n",
      "Worker 1 has released lock0\n",
      "Worker 0 has the lock0\n",
      "Worker 0 has released lock0\n",
      "Worker 1 has the lock1\n",
      "Worker 1 has released lock1\n",
      "Worker 0 has the lock1\n",
      "Worker 0 has released lock1\n",
      "Worker 1 has the lock0\n",
      "Worker 1 has released lock0\n",
      "Worker 0 has the lock0\n",
      "Worker 0 has released lock0\n",
      "Worker 1 has the lock1\n",
      "Worker 1 has released lock1\n",
      "Worker 0 has the lock1\n",
      "Worker 0 has released lock1\n",
      "Worker 1 has the lock0\n",
      "Worker 1 has released lock0\n",
      "Worker 0 has the lock0\n",
      "Worker 0 has released lock0\n",
      "Worker 1 has the lock1\n",
      "Worker 1 has released lock1\n",
      "Worker 0 has the lock1\n",
      "Worker 0 has released lock1\n",
      "worker 1 is done.\n",
      "worker 0 is done.\n",
      "Thread-11 (worker_t) joined\n",
      "Thread-12 (worker_t) joined\n"
     ]
    }
   ],
   "source": [
    "import threading\n",
    "import time\n",
    "from pynq.overlays.base import BaseOverlay\n",
    "base = BaseOverlay(\"base.bit\")\n",
    "\n",
    "def blink(t, d, n):\n",
    "    for i in range(t):\n",
    "        base.leds[n].toggle()\n",
    "        time.sleep(d)\n",
    "        \n",
    "    base.leds[n].off()\n",
    "\n",
    "def worker_t(_l0, _l1, num):\n",
    "    resource_available0 = True\n",
    "    resource_available1 = True\n",
    "    for i in range(10):\n",
    "        resource_available0 = _l0.acquire(False) # this is non-blocking acquire\n",
    "        if resource_available0:\n",
    "            # write code to:\n",
    "            # print message for having the key\n",
    "            # blink for a while\n",
    "            # release the key\n",
    "            # give enough time to the other thread to grab the key   \n",
    "            print(\"Worker {} has the lock0\".format(num))\n",
    "            blink(50, 0.02, num)\n",
    "            _l0.release()\n",
    "            print(\"Worker {} has released lock0\".format(num))\n",
    "            time.sleep(2) # yeild\n",
    "        else:\n",
    "            # write code to:\n",
    "            # print message for waiting for the key\n",
    "            print(\"Worker {} waiting for lock0\".format(num))\n",
    "            # blink for a while with a different rate\n",
    "            blink(27, 0.04, num) # the timing between having the key + yield and waiting for the key should be adjusted so no thread get stuck in waiting\n",
    "        \n",
    "        resource_available1 = _l1.acquire(False) # this is non-blocking acquire\n",
    "        if resource_available1:\n",
    "            # write code to:\n",
    "            # print message for having the key\n",
    "            # blink for a while\n",
    "            # release the key\n",
    "            # give enough time to the other thread to grab the key  \n",
    "            print(\"Worker {} has the lock1\".format(num))\n",
    "            blink(50, 0.02, num)\n",
    "            _l1.release()\n",
    "            print(\"Worker {} has released lock1\".format(num))\n",
    "            time.sleep(2) # yeild\n",
    "        else:\n",
    "            # write code to:\n",
    "            # print message for waiting for the key\n",
    "            print(\"Worker {} waiting for lock1\".format(num))\n",
    "            # blink for a while with a different rate\n",
    "            blink(27, 0.04, num)\n",
    "            # the timing between having the key + yield and waiting for the key should be adjusted so no thread get stuck in waiting    \n",
    "    print('worker {} is done.'.format(num))\n",
    "        \n",
    "threads = []\n",
    "fork = threading.Lock()\n",
    "fork1 = threading.Lock()\n",
    "for i in range(2):\n",
    "    t = threading.Thread(target=worker_t, args=(fork, fork1, i))\n",
    "    threads.append(t)\n",
    "    t.start()\n",
    "\n",
    "for t in threads:\n",
    "    name = t.getName()\n",
    "    t.join()\n",
    "    print('{} joined'.format(name))"
   ]
  },
  {
   "cell_type": "code",
   "execution_count": null,
   "metadata": {},
   "outputs": [],
   "source": []
  }
 ],
 "metadata": {
  "kernelspec": {
   "display_name": "Python 3 (ipykernel)",
   "language": "python",
   "name": "python3"
  },
  "language_info": {
   "codemirror_mode": {
    "name": "ipython",
    "version": 3
   },
   "file_extension": ".py",
   "mimetype": "text/x-python",
   "name": "python",
   "nbconvert_exporter": "python",
   "pygments_lexer": "ipython3",
   "version": "3.10.4"
  }
 },
 "nbformat": 4,
 "nbformat_minor": 2
}
