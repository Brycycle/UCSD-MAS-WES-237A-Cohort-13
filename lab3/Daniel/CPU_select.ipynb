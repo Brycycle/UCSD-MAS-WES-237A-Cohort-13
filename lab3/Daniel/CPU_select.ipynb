{
 "cells": [
  {
   "cell_type": "markdown",
   "metadata": {},
   "source": [
    "## Selects CPU to run fib.py on"
   ]
  },
  {
   "cell_type": "code",
   "execution_count": 13,
   "metadata": {
    "vscode": {
     "languageId": "plaintext"
    }
   },
   "outputs": [
    {
     "name": "stdout",
     "output_type": "stream",
     "text": [
      "which core do you want? (0/1): 1\n",
      "time spent: 11.820761680603027\n"
     ]
    }
   ],
   "source": [
    "import os\n",
    "\n",
    "core=input(\"which core do you want? (0/1): \")\n",
    "if (core==\"0\" or core == \"1\"):\n",
    "    os.system(f\"taskset -c {int(core)} python fib.py\")"
   ]
  },
  {
   "cell_type": "code",
   "execution_count": null,
   "metadata": {},
   "outputs": [],
   "source": []
  }
 ],
 "metadata": {
  "kernelspec": {
   "display_name": "Python 3 (ipykernel)",
   "language": "python",
   "name": "python3"
  },
  "language_info": {
   "codemirror_mode": {
    "name": "ipython",
    "version": 3
   },
   "file_extension": ".py",
   "mimetype": "text/x-python",
   "name": "python",
   "nbconvert_exporter": "python",
   "pygments_lexer": "ipython3",
   "version": "3.10.4"
  }
 },
 "nbformat": 4,
 "nbformat_minor": 2
}
